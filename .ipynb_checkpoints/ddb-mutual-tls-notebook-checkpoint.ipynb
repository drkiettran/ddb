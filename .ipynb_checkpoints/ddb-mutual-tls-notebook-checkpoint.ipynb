{
 "cells": [
  {
   "cell_type": "markdown",
   "metadata": {},
   "source": [
    "# HTTPS Mutual Authentication Notebook\n",
    "Connecting to a destination with mutual TLS. See `https://github.com/drkiettran/rabbitmq` repository for how to generate certs/keys/etc.\n",
    "\n",
    "Example of creating `localhost.jks` file and keys, etc:\n",
    "\n",
    "```shell\n",
    "keytool -genkeypair -keystore localhost.jks -storepass changeit -keyalg RSA -alias localhost\n",
    "\n",
    "keytool -storepass changeit -keystore localhost.jks -certreq -alias localhost -file localhost-certreq.csr\n",
    "\n",
    "keytool -storepass changeit -keystore ca.jks -gencert -alias ca -ext ku:c=dig,keyEncipherment -rfc -infile localhost-certreq.csr -outfile localhost.pem\n",
    "\n",
    "keytool -keystore localhost.jks -storepass changeit -importcert -alias root -file root.pem\n",
    "\n",
    "keytool -keystore localhost.jks -storepass changeit -importcert -alias ca -file ca.pem\n",
    "\n",
    "keytool -keystore localhost.jks -storepass changeit -importcert -alias localhost -file localhost.pem\n",
    "\n",
    "keytool -importkeystore -srckeystore localhost.jks -destkeystore localhost.p12 -deststoretype PKCS12 -srcalias localhost -deststorepass changeit -destkeypass changeit\n",
    "\n",
    "openssl pkcs12 -in localhost.p12 -nodes -nocerts -out localhost-priv-key.pem\n",
    "openssl pkcs12 -in localhost.p12 -nokeys -out localhost-cert.pem\n",
    "\n",
    "```\n",
    "\n",
    "Example: of using a `curl` command for posting HTTPS request:\n",
    "\n",
    "```shell\n",
    "\n",
    "curl --location --request POST 'https://192.168.1.102:9999/to_ddb' --header 'Content-Type: application/json' --data-raw '{\"http.port\": 9999}' -k\n",
    "```\n",
    "\n",
    "```\n",
    "{\"statusCode\":200,\"reason\":\"OK\"}\n",
    "```\n",
    "\n",
    "Mutual TLS with `curl`:\n",
    "```shell\n",
    "curl --location --request POST 'https://localhost:9999/to_ddb' --header 'Content-Type: application/json' --data-raw '{\"http.port\": 9999}' --key ./client-priv-key.pem --cert ./client-cert.pem --cacert ./ca_bundle.pem\n",
    "```"
   ]
  },
  {
   "cell_type": "code",
   "execution_count": 8,
   "metadata": {},
   "outputs": [],
   "source": [
    "import requests\n",
    "import json\n",
    "from IPython import display"
   ]
  },
  {
   "cell_type": "code",
   "execution_count": 11,
   "metadata": {},
   "outputs": [
    {
     "name": "stderr",
     "output_type": "stream",
     "text": [
      "/home/student/.local/lib/python3.6/site-packages/urllib3/connection.py:462: SubjectAltNameWarning: Certificate for localhost has no `subjectAltName`, falling back to check for a `commonName` for now. This feature is being removed by major browsers and deprecated by RFC 2818. (See https://github.com/urllib3/urllib3/issues/497 for details.)\n",
      "  SubjectAltNameWarning,\n"
     ]
    },
    {
     "data": {
      "text/plain": [
       "'{\"statusCode\":200,\"reason\":\"OK\"}'"
      ]
     },
     "execution_count": 11,
     "metadata": {},
     "output_type": "execute_result"
    }
   ],
   "source": [
    "\n",
    "private_key_file = '/home/student/certs/client-priv-key.pem'\n",
    "public_key_file = '/home/student/certs/client-cert.pem'\n",
    "ca_file = '/home/student/certs/ca_bundle.pem'\n",
    "\n",
    "headers = {'content-type':'application/json'}\n",
    "url = 'https://localhost:9999/to_ddb'\n",
    "data = {\"eye-catcher\": \"=====>>>>>> \", \"http.port\": 9999}\n",
    "\n",
    "response = requests.post(url, headers=headers, data=json.dumps(data), verify=ca_file, cert=(public_key_file, private_key_file))\n",
    "response.text\n"
   ]
  },
  {
   "cell_type": "markdown",
   "metadata": {},
   "source": [
    "## Mutual TLS with POSTMAN:\n",
    "Consider the following information to configure POSTMAN for MUTUAL TLS HTTP Post"
   ]
  },
  {
   "cell_type": "code",
   "execution_count": null,
   "metadata": {},
   "outputs": [],
   "source": [
    "display.Image('./postman-ssl-cert-verification-image.png')\n"
   ]
  },
  {
   "cell_type": "code",
   "execution_count": null,
   "metadata": {},
   "outputs": [],
   "source": [
    "display.Image('./postman-tls-cert-key-image.png')"
   ]
  },
  {
   "cell_type": "code",
   "execution_count": null,
   "metadata": {},
   "outputs": [],
   "source": []
  }
 ],
 "metadata": {
  "kernelspec": {
   "display_name": "Python 3",
   "language": "python",
   "name": "python3"
  },
  "language_info": {
   "codemirror_mode": {
    "name": "ipython",
    "version": 3
   },
   "file_extension": ".py",
   "mimetype": "text/x-python",
   "name": "python",
   "nbconvert_exporter": "python",
   "pygments_lexer": "ipython3",
   "version": "3.6.9"
  }
 },
 "nbformat": 4,
 "nbformat_minor": 2
}
